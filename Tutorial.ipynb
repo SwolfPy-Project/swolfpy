{
 "cells": [
  {
   "cell_type": "markdown",
   "metadata": {},
   "source": [
    "# Creating a new project\n",
    "## Importing Brightway2 and PySWOLF\n",
    "First thing you should do is to link the required Python packages include **brightway2** and **PySWOLF** using the `import` function:\n",
    "- **Brightway2** is the core for doing the LCA\n",
    "- **project_class** is for creating a new project in Brightway2\n",
    "- **SWOLF_method** is for importing the user specifed impact categories"
   ]
  },
  {
   "cell_type": "code",
   "execution_count": 1,
   "metadata": {},
   "outputs": [],
   "source": [
    "import brightway2 as bw\n",
    "import project_class as pj\n",
    "import SWOLF_method as sm"
   ]
  },
  {
   "cell_type": "markdown",
   "metadata": {},
   "source": [
    "## Importing process models\n",
    "Based on the solid waste management system that you are modeling, you should import the process models that you need. Here is the list of all avalable process models in PySWOLF:\n",
    "- Single Family Collection: `SF_collection`\n",
    "- Landfill: `LF`\n",
    "- Anearobic Digestion: `AD`\n",
    "- [Composting](https://pdfs.semanticscholar.org/ecaf/44f48d6f7731a2130b64c6c2774e8a4d2054.pdf):`Composting`\n",
    "- mass burn waste-to-energy (Incineration): `WTE`"
   ]
  },
  {
   "cell_type": "code",
   "execution_count": 2,
   "metadata": {},
   "outputs": [],
   "source": [
    "import LF as LF\n",
    "import Composting as Comp\n",
    "import AD as AD\n",
    "import WTE as WTE"
   ]
  },
  {
   "cell_type": "markdown",
   "metadata": {},
   "source": [
    "## Importing Common Data\n",
    "You shoud import the common data for the process models."
   ]
  },
  {
   "cell_type": "code",
   "execution_count": 3,
   "metadata": {},
   "outputs": [],
   "source": [
    "import CommonData as CommonData"
   ]
  },
  {
   "cell_type": "markdown",
   "metadata": {},
   "source": [
    "## Defining the treatment processes\n",
    "You should create a dictionary for treatment processes. In this dictionary, each process model has its own dictionary which include the instantiated model and types of waste streams that it can accept. \n",
    "\n",
    "For example, the model for the AD process is `AD.AD()` and it can accept the **Separated_Organics** and **MOC**:\n",
    "`Treatment_processes['AD']={'input_type':['MOC','Separated_Organics'],'model': AD.AD()}`"
   ]
  },
  {
   "cell_type": "code",
   "execution_count": 4,
   "metadata": {},
   "outputs": [],
   "source": [
    "Treatment_processes = {}\n",
    "Treatment_processes['AD']={'input_type':['MOC','Separated_Organics'],'model': AD.AD()}\n",
    "Treatment_processes['COMP']={'input_type':['MOC','Separated_Organics'], 'model': Comp.Comp()}\n",
    "Treatment_processes['LF']={'input_type':['MWC','RWC','Bottom_Ash','Fly_Ash','Other_Residual'],'model': LF.LF()}\n",
    "Treatment_processes['WTE']={'input_type':['MWC','RWC','Other_Residual','RDF'],'model':WTE.WTE()}\n",
    "Treatment_processes['REPROC']={'input_type':['OCC', 'Mixed_Paper', 'ONP', 'OFF', 'Fiber_Other', \\\n",
    "                   'PET', 'HDPE_Unsorted', 'HDPE_P', 'HDPE_T', 'PVC', 'LDPE_Film', 'Polypropylene', 'Polystyrene', 'Plastic_Other', \\\n",
    "                   'Mixed_Plastic', 'Al', 'Fe', 'Cu', 'Brown_glass', 'Clear_glass', 'Green_glass', 'Mixed_Glass'],'path':\"Material_Reprocessing_BW2.csv\"}  "
   ]
  },
  {
   "cell_type": "markdown",
   "metadata": {},
   "source": [
    "You should create a new project using `pj.project` which has two arguments including the name of project and dictionary for treatment processes."
   ]
  },
  {
   "cell_type": "code",
   "execution_count": 5,
   "metadata": {},
   "outputs": [],
   "source": [
    "Project_name = \"Organic_Analysis\"\n",
    "demo = pj.project(Project_name,Treatment_processes)"
   ]
  },
  {
   "cell_type": "markdown",
   "metadata": {},
   "source": [
    "`pj.init_project` creates new project in birghtway2 which includes three initial databses of **biosphere**, **technosphere**, and ** waste**. \n",
    "\n",
    "`pj.write_project` creates database based on data from the process models."
   ]
  },
  {
   "cell_type": "code",
   "execution_count": 6,
   "metadata": {},
   "outputs": [
    {
     "name": "stdout",
     "output_type": "stream",
     "text": [
      "Biosphere database already present!!! No setup is needed\n"
     ]
    },
    {
     "name": "stderr",
     "output_type": "stream",
     "text": [
      "Writing activities to SQLite3 database:\n",
      "0% [##############################] 100% | ETA: 00:00:00\n",
      "Total time elapsed: 00:00:28\n"
     ]
    },
    {
     "name": "stdout",
     "output_type": "stream",
     "text": [
      "Title: Writing activities to SQLite3 database:\n",
      "  Started: 11/07/2019 13:30:12\n",
      "  Finished: 11/07/2019 13:30:41\n",
      "  Total time elapsed: 00:00:28\n",
      "  CPU %: 67.00\n",
      "  Memory %: 1.07\n"
     ]
    },
    {
     "name": "stderr",
     "output_type": "stream",
     "text": [
      "Writing activities to SQLite3 database:\n",
      "0% [##############################] 100% | ETA: 00:00:00\n",
      "Total time elapsed: 00:00:00\n"
     ]
    },
    {
     "name": "stdout",
     "output_type": "stream",
     "text": [
      "Title: Writing activities to SQLite3 database:\n",
      "  Started: 11/07/2019 13:30:54\n",
      "  Finished: 11/07/2019 13:30:54\n",
      "  Total time elapsed: 00:00:00\n",
      "  CPU %: 100.20\n",
      "  Memory %: 1.07\n"
     ]
    },
    {
     "name": "stderr",
     "output_type": "stream",
     "text": [
      "Writing activities to SQLite3 database:\n",
      "0% [##############################] 100% | ETA: 00:00:00\n",
      "Total time elapsed: 00:00:00\n"
     ]
    },
    {
     "name": "stdout",
     "output_type": "stream",
     "text": [
      "Title: Writing activities to SQLite3 database:\n",
      "  Started: 11/07/2019 13:30:55\n",
      "  Finished: 11/07/2019 13:30:55\n",
      "  Total time elapsed: 00:00:00\n",
      "  CPU %: 118.70\n",
      "  Memory %: 1.08\n"
     ]
    },
    {
     "name": "stderr",
     "output_type": "stream",
     "text": [
      "Writing activities to SQLite3 database:\n",
      "0% [##############################] 100% | ETA: 00:00:00\n",
      "Total time elapsed: 00:00:00\n"
     ]
    },
    {
     "name": "stdout",
     "output_type": "stream",
     "text": [
      "Title: Writing activities to SQLite3 database:\n",
      "  Started: 11/07/2019 13:30:55\n",
      "  Finished: 11/07/2019 13:30:55\n",
      "  Total time elapsed: 00:00:00\n",
      "  CPU %: 83.10\n",
      "  Memory %: 1.08\n"
     ]
    },
    {
     "name": "stderr",
     "output_type": "stream",
     "text": [
      "Writing activities to SQLite3 database:\n",
      "0% [##############################] 100% | ETA: 00:00:00\n",
      "Total time elapsed: 00:00:00\n"
     ]
    },
    {
     "name": "stdout",
     "output_type": "stream",
     "text": [
      "Title: Writing activities to SQLite3 database:\n",
      "  Started: 11/07/2019 13:30:56\n",
      "  Finished: 11/07/2019 13:30:56\n",
      "  Total time elapsed: 00:00:00\n",
      "  CPU %: 112.50\n",
      "  Memory %: 1.08\n"
     ]
    },
    {
     "name": "stderr",
     "output_type": "stream",
     "text": [
      "Writing activities to SQLite3 database:\n",
      "0% [##############################] 100% | ETA: 00:00:00\n",
      "Total time elapsed: 00:00:00\n"
     ]
    },
    {
     "name": "stdout",
     "output_type": "stream",
     "text": [
      "Title: Writing activities to SQLite3 database:\n",
      "  Started: 11/07/2019 13:30:56\n",
      "  Finished: 11/07/2019 13:30:56\n",
      "  Total time elapsed: 00:00:00\n",
      "  CPU %: 89.60\n",
      "  Memory %: 1.08\n"
     ]
    },
    {
     "name": "stderr",
     "output_type": "stream",
     "text": [
      "Writing activities to SQLite3 database:\n",
      "0% [##############################] 100% | ETA: 00:00:00\n",
      "Total time elapsed: 00:00:00\n"
     ]
    },
    {
     "name": "stdout",
     "output_type": "stream",
     "text": [
      "Title: Writing activities to SQLite3 database:\n",
      "  Started: 11/07/2019 13:30:58\n",
      "  Finished: 11/07/2019 13:30:58\n",
      "  Total time elapsed: 00:00:00\n",
      "  CPU %: 59.30\n",
      "  Memory %: 1.08\n"
     ]
    },
    {
     "name": "stderr",
     "output_type": "stream",
     "text": [
      "Writing activities to SQLite3 database:\n",
      "0% [##############################] 100% | ETA: 00:00:00\n",
      "Total time elapsed: 00:00:01\n"
     ]
    },
    {
     "name": "stdout",
     "output_type": "stream",
     "text": [
      "Title: Writing activities to SQLite3 database:\n",
      "  Started: 11/07/2019 13:30:59\n",
      "  Finished: 11/07/2019 13:31:00\n",
      "  Total time elapsed: 00:00:01\n",
      "  CPU %: 68.80\n",
      "  Memory %: 1.08\n"
     ]
    },
    {
     "name": "stderr",
     "output_type": "stream",
     "text": [
      "Writing activities to SQLite3 database:\n",
      "0% [##############################] 100% | ETA: 00:00:00\n",
      "Total time elapsed: 00:00:00\n"
     ]
    },
    {
     "name": "stdout",
     "output_type": "stream",
     "text": [
      "Title: Writing activities to SQLite3 database:\n",
      "  Started: 11/07/2019 13:31:00\n",
      "  Finished: 11/07/2019 13:31:00\n",
      "  Total time elapsed: 00:00:00\n",
      "  CPU %: 100.20\n",
      "  Memory %: 1.08\n"
     ]
    },
    {
     "name": "stderr",
     "output_type": "stream",
     "text": [
      "Writing activities to SQLite3 database:\n",
      "0% [##############################] 100% | ETA: 00:00:00\n",
      "Total time elapsed: 00:00:00\n"
     ]
    },
    {
     "name": "stdout",
     "output_type": "stream",
     "text": [
      "Title: Writing activities to SQLite3 database:\n",
      "  Started: 11/07/2019 13:31:01\n",
      "  Finished: 11/07/2019 13:31:01\n",
      "  Total time elapsed: 00:00:00\n",
      "  CPU %: 81.80\n",
      "  Memory %: 1.08\n"
     ]
    },
    {
     "name": "stderr",
     "output_type": "stream",
     "text": [
      "Writing activities to SQLite3 database:\n",
      "0% [##############################] 100% | ETA: 00:00:00\n",
      "Total time elapsed: 00:00:02\n"
     ]
    },
    {
     "name": "stdout",
     "output_type": "stream",
     "text": [
      "Title: Writing activities to SQLite3 database:\n",
      "  Started: 11/07/2019 13:31:03\n",
      "  Finished: 11/07/2019 13:31:05\n",
      "  Total time elapsed: 00:00:02\n",
      "  CPU %: 75.00\n",
      "  Memory %: 1.09\n"
     ]
    },
    {
     "name": "stderr",
     "output_type": "stream",
     "text": [
      "Writing activities to SQLite3 database:\n",
      "0% [##############################] 100% | ETA: 00:00:00\n",
      "Total time elapsed: 00:00:00\n"
     ]
    },
    {
     "name": "stdout",
     "output_type": "stream",
     "text": [
      "Title: Writing activities to SQLite3 database:\n",
      "  Started: 11/07/2019 13:31:06\n",
      "  Finished: 11/07/2019 13:31:06\n",
      "  Total time elapsed: 00:00:00\n",
      "  CPU %: 83.60\n",
      "  Memory %: 1.10\n"
     ]
    },
    {
     "name": "stderr",
     "output_type": "stream",
     "text": [
      "Writing activities to SQLite3 database:\n",
      "0% [##############################] 100% | ETA: 00:00:00\n",
      "Total time elapsed: 00:00:00\n"
     ]
    },
    {
     "name": "stdout",
     "output_type": "stream",
     "text": [
      "Title: Writing activities to SQLite3 database:\n",
      "  Started: 11/07/2019 13:31:08\n",
      "  Finished: 11/07/2019 13:31:09\n",
      "  Total time elapsed: 00:00:00\n",
      "  CPU %: 72.30\n",
      "  Memory %: 1.11\n"
     ]
    },
    {
     "name": "stderr",
     "output_type": "stream",
     "text": [
      "Writing activities to SQLite3 database:\n",
      "0% [##############################] 100% | ETA: 00:00:00\n",
      "Total time elapsed: 00:00:00\n"
     ]
    },
    {
     "name": "stdout",
     "output_type": "stream",
     "text": [
      "Title: Writing activities to SQLite3 database:\n",
      "  Started: 11/07/2019 13:31:10\n",
      "  Finished: 11/07/2019 13:31:11\n",
      "  Total time elapsed: 00:00:00\n",
      "  CPU %: 85.10\n",
      "  Memory %: 1.34\n"
     ]
    },
    {
     "name": "stderr",
     "output_type": "stream",
     "text": [
      "Writing activities to SQLite3 database:\n",
      "0% [##############################] 100% | ETA: 00:00:00\n",
      "Total time elapsed: 00:00:52\n"
     ]
    },
    {
     "name": "stdout",
     "output_type": "stream",
     "text": [
      "Title: Writing activities to SQLite3 database:\n",
      "  Started: 11/07/2019 13:31:13\n",
      "  Finished: 11/07/2019 13:32:05\n",
      "  Total time elapsed: 00:00:52\n",
      "  CPU %: 65.50\n",
      "  Memory %: 1.35\n"
     ]
    }
   ],
   "source": [
    "demo.init_project('SWOLF_AccountMode_LCI DATA.csv')\n",
    "demo.write_project()"
   ]
  },
  {
   "cell_type": "markdown",
   "metadata": {},
   "source": [
    "## Parameters\n",
    "You can check the parameters inside the project object by accessing the attribute `demo.parameters_list`. "
   ]
  },
  {
   "cell_type": "code",
   "execution_count": 7,
   "metadata": {},
   "outputs": [
    {
     "data": {
      "text/plain": [
       "[{'name': 'frac_of_Other_Residual_from_AD_to_LF', 'amount': 0},\n",
       " {'name': 'frac_of_Other_Residual_from_AD_to_WTE', 'amount': 0},\n",
       " {'name': 'frac_of_Other_Residual_from_COMP_to_LF', 'amount': 0},\n",
       " {'name': 'frac_of_Other_Residual_from_COMP_to_WTE', 'amount': 0},\n",
       " {'name': 'frac_of_Bottom_Ash_from_WTE_to_LF', 'amount': 0},\n",
       " {'name': 'frac_of_Fly_Ash_from_WTE_to_LF', 'amount': 0},\n",
       " {'name': 'frac_of_Al_from_WTE_to_REPROC', 'amount': 0},\n",
       " {'name': 'frac_of_Fe_from_WTE_to_REPROC', 'amount': 0},\n",
       " {'name': 'frac_of_Cu_from_WTE_to_REPROC', 'amount': 0},\n",
       " {'name': 'frac_of_Bottom_Ash_from_REPROC_to_LF', 'amount': 0},\n",
       " {'name': 'frac_of_Fly_Ash_from_REPROC_to_LF', 'amount': 0},\n",
       " {'name': 'frac_of_Separated_Organics_from_REPROC_to_AD', 'amount': 0},\n",
       " {'name': 'frac_of_Separated_Organics_from_REPROC_to_COMP', 'amount': 0},\n",
       " {'name': 'frac_of_Other_Residual_from_REPROC_to_LF', 'amount': 0},\n",
       " {'name': 'frac_of_Other_Residual_from_REPROC_to_WTE', 'amount': 0},\n",
       " {'name': 'frac_of_RDF_from_REPROC_to_WTE', 'amount': 0},\n",
       " {'name': 'frac_of_Al_from_REPROC_to_REPROC', 'amount': 0},\n",
       " {'name': 'frac_of_Fe_from_REPROC_to_REPROC', 'amount': 0},\n",
       " {'name': 'frac_of_Cu_from_REPROC_to_REPROC', 'amount': 0}]"
      ]
     },
     "execution_count": 7,
     "metadata": {},
     "output_type": "execute_result"
    }
   ],
   "source": [
    "demo.group_exchanges()\n",
    "demo.parameters_list"
   ]
  },
  {
   "cell_type": "markdown",
   "metadata": {},
   "source": [
    "This parameter list will be automatically generated and populated but its values are all equal to 0. The user can specify the mass splits here but paramenters inside a group must sum to 1. Otherwise, you will get an error and the parameters will not be updated. \n",
    "\n",
    "Let's create a list of dictionaries where amount is our waste fraction. \n"
   ]
  },
  {
   "cell_type": "code",
   "execution_count": 8,
   "metadata": {},
   "outputs": [],
   "source": [
    "params=[{'name': 'frac_of_Other_Residual_from_AD_to_LF', 'amount': 1},\n",
    " {'name': 'frac_of_Other_Residual_from_AD_to_WTE', 'amount': 0},\n",
    " {'name': 'frac_of_Other_Residual_from_COMP_to_LF', 'amount': 1},\n",
    " {'name': 'frac_of_Other_Residual_from_COMP_to_WTE', 'amount': 0},\n",
    " {'name': 'frac_of_Bottom_Ash_from_WTE_to_LF', 'amount': 1},\n",
    " {'name': 'frac_of_Fly_Ash_from_WTE_to_LF', 'amount': 1},\n",
    " {'name': 'frac_of_Al_from_WTE_to_REPROC', 'amount': 1},\n",
    " {'name': 'frac_of_Fe_from_WTE_to_REPROC', 'amount': 1},\n",
    " {'name': 'frac_of_Cu_from_WTE_to_REPROC', 'amount': 1},\n",
    " {'name': 'frac_of_Bottom_Ash_from_REPROC_to_LF', 'amount': 1},\n",
    " {'name': 'frac_of_Fly_Ash_from_REPROC_to_LF', 'amount': 1},\n",
    " {'name': 'frac_of_Separated_Organics_from_REPROC_to_AD', 'amount': 1},\n",
    " {'name': 'frac_of_Separated_Organics_from_REPROC_to_COMP', 'amount': 0},\n",
    " {'name': 'frac_of_Other_Residual_from_REPROC_to_LF', 'amount': 1},\n",
    " {'name': 'frac_of_Other_Residual_from_REPROC_to_WTE', 'amount': 0},\n",
    " {'name': 'frac_of_RDF_from_REPROC_to_WTE', 'amount': 1},\n",
    " {'name': 'frac_of_Al_from_REPROC_to_REPROC', 'amount': 1},\n",
    " {'name': 'frac_of_Fe_from_REPROC_to_REPROC', 'amount': 1},\n",
    " {'name': 'frac_of_Cu_from_REPROC_to_REPROC', 'amount': 1}]"
   ]
  },
  {
   "cell_type": "markdown",
   "metadata": {},
   "source": [
    "Now we can update the parameters we have just set."
   ]
  },
  {
   "cell_type": "code",
   "execution_count": 9,
   "metadata": {},
   "outputs": [],
   "source": [
    "demo.update_parameters(params)"
   ]
  },
  {
   "cell_type": "markdown",
   "metadata": {},
   "source": [
    "This will update the activities and exchanges inside Brightway2.\n",
    "## Starting Scenario\n",
    "Now we can create our scenario and in order to do that, we must instantiate a dictionary. This is a nested dictionary that contains the process model names (as defined in the Treatment_processes) as the key and the value will be another dictionary with the material name as the key and the value is the mass in Mg."
   ]
  },
  {
   "cell_type": "code",
   "execution_count": 10,
   "metadata": {},
   "outputs": [],
   "source": [
    "scenario1 = {\"AD\":{\"Yard_Trimmings_Grass\":1},\n",
    "             \"COMP\":{\"Yard_Trimmings_Grass\":2,\"Paper_Bags\":2,\"Mixed_Plastic\":2}}"
   ]
  },
  {
   "cell_type": "markdown",
   "metadata": {},
   "source": [
    "Once this is completed, we can start our scenario by calling the method `process_start_scenario`. The first argument is the dictionary we just created and the second is a string identifying your scenario. You can create multiple scenarios, according to your need."
   ]
  },
  {
   "cell_type": "code",
   "execution_count": 11,
   "metadata": {},
   "outputs": [],
   "source": [
    "demo.process_start_scenario(scenario1,'scenario1')"
   ]
  },
  {
   "cell_type": "markdown",
   "metadata": {},
   "source": [
    "## LCA Analysis\n",
    "Now we can run the method `Do_LCA(scenario_name,impact_method,functioanl_unit)`. The identifier scenario_name should be the same as the one defined in `process_start_scenario`. The LCA will be performed on that scenario that has just been initialized. \n",
    "\n",
    "Impact_method is a tuple containing the impact method that is uniquely identified in Brightway2. Since the waste masses are defined in the scenario dictionary, the functional unit value for this call usually equals 1. An example call is done below:"
   ]
  },
  {
   "cell_type": "code",
   "execution_count": 12,
   "metadata": {},
   "outputs": [
    {
     "name": "stdout",
     "output_type": "stream",
     "text": [
      "lca socre=  -247.19955672928546\n"
     ]
    },
    {
     "data": {
      "image/png": "[encoded data removed]",
      "text/plain": [
       "<Figure size 1440x360 with 1 Axes>"
      ]
     },
     "metadata": {
      "needs_background": "light"
     },
     "output_type": "display_data"
    }
   ],
   "source": [
    "sm.import_methods()\n",
    "demo.Do_LCA('scenario1',('SWOLF_IPCC','SWOLF'),1)"
   ]
  },
  {
   "cell_type": "markdown",
   "metadata": {},
   "source": [
    "Running this method will produce two results: LCA score and a top activities contribution plot."
   ]
  }
 ],
 "metadata": {
  "kernelspec": {
   "display_name": "Python 3",
   "language": "python",
   "name": "python3"
  },
  "language_info": {
   "codemirror_mode": {
    "name": "ipython",
    "version": 3
   },
   "file_extension": ".py",
   "mimetype": "text/x-python",
   "name": "python",
   "nbconvert_exporter": "python",
   "pygments_lexer": "ipython3",
   "version": "3.6.9"
  }
 },
 "nbformat": 4,
 "nbformat_minor": 2
}
