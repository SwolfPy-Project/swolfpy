{
 "cells": [
  {
   "cell_type": "markdown",
   "metadata": {},
   "source": [
    "# Running a Monte Carlo Simulation\n",
    "## Before Starting\n",
    "This Monte Carlo Simulation should be run after the first tutorial has been completed. You can download it\n",
    "[here](https://bitbucket.org/phanchieta/lca/src/master/Tutorial.ipynb)"
   ]
  },
  {
   "cell_type": "markdown",
   "metadata": {},
   "source": [
    "## Creating Uncertainty\n",
    "The first step to run the Monte Carlo Simulation is creating the uncertainty. You may wish to create uncertainty in one or more of the following areas:\n",
    "- Process Model inputs\n",
    "- Common Data\n",
    "- Parameters\n",
    "- Material Properties\n",
    "\n",
    "We will go over each one of them individually and then we will run a full simulation. Your simulation may include any combination of these\n",
    "\n",
    "## Process Model Uncertainty\n",
    "Probably the most common uncertainty situation is adding to the individual process models. As you may recall from the previous tutorial, we created a dictionary with all the process models. It was called Treatment_processes. Let's take a brief look."
   ]
  },
  {
   "cell_type": "code",
   "execution_count": null,
   "metadata": {},
   "outputs": [],
   "source": [
    "Treatment_processes"
   ]
  },
  {
   "cell_type": "markdown",
   "metadata": {},
   "source": [
    "We can see our `AD`, `COMP`, `LF`, `WTE`, `REPROC` models with their objects (ex.  `<AD.AD at 0xb8ae4e0>`) and input types. In order to add uncertainty to them, we will be accessing this dictionary and adding uncertainty to the instantiated model inside the dictionary. We will first be adding uncertainty to `ad_pCasCH4` inside Curing Bio. Note that all models have the object Model_input, where the input uncertainty can be added. Let's take a look on this dictionary before we add the uncertainty. "
   ]
  },
  {
   "cell_type": "code",
   "execution_count": null,
   "metadata": {},
   "outputs": [],
   "source": [
    "Treatment_processes['AD']['model'].AD_input.Curing_Bio['ad_pCasCH4']"
   ]
  },
  {
   "cell_type": "markdown",
   "metadata": {},
   "source": [
    "Now we can add our uncertainty. There are two ways of doing that. First is simply rewriting the dictionary or adding the individual fields. In this case is simply easier to rewrite the whole thing."
   ]
  },
  {
   "cell_type": "code",
   "execution_count": null,
   "metadata": {},
   "outputs": [],
   "source": [
    "Treatment_processes['AD']['model'].AD_input.Curing_Bio['ad_pCasCH4']={'Name':'Proportion of emitted C emitted as CH4','amount':0.017,'unit':None,'Reference':'19',\n",
    "                          'uncertainty_type':3,'loc':0.017,'scale':0.004}"
   ]
  },
  {
   "cell_type": "markdown",
   "metadata": {},
   "source": [
    "You can see that we added 3 new fields to the dictionary: `uncertainty_type`, `loc` and `scale`. The whole documentation for these can be found on the `stats_arrays` package located [here](https://stats-arrays.readthedocs.io/en/latest/). But to briefly explain, `uncertainty_type=3` is a Normal distribution, `loc` and `scale` are mean and standard deviation, respectively. Let's add some more. Now to the Composting model:"
   ]
  },
  {
   "cell_type": "code",
   "execution_count": null,
   "metadata": {},
   "outputs": [],
   "source": [
    "Treatment_processes['COMP']['model'].Comp_input.Biological_Degredation['pCasCH4'] = {\"Name\":\"Proportion of emitted C emitted as CH4\",\"amount\":0.017,\"unit\":None,\"Reference\":'12',\n",
    "                           'uncertainty_type':3,'loc':0.017,'scale':0.004}"
   ]
  },
  {
   "cell_type": "markdown",
   "metadata": {},
   "source": [
    "You can choose different distributions, max, min according to the `stats_arrays` package. All of its functions are mapped here.\n",
    "## Common Data\n",
    "All of the Process Models share some data, and to avoid duplication, they all read from the Common Data class. In order to create uncertainty for all process models, you may create it in the Common Data class. The Common Data class is instantiated in the background by the process models so in order to create uncertainty, we must do the following steps:\n",
    "- Instantiate our own Common Data class\n",
    "- Add uncertainty to it\n",
    "- Tell the simulation to use our Common Data class when performing Monte Carlo\n",
    "Let's first import and instantiate"
   ]
  },
  {
   "cell_type": "code",
   "execution_count": null,
   "metadata": {},
   "outputs": [],
   "source": [
    "import CommonData as cd\n",
    "CommonData = cd.CommonData()"
   ]
  },
  {
   "cell_type": "markdown",
   "metadata": {},
   "source": [
    "Now let's add uncertainty:"
   ]
  },
  {
   "cell_type": "code",
   "execution_count": null,
   "metadata": {},
   "outputs": [],
   "source": [
    "CommonData.Land_app['cmpLandDies']={\"Name\":\"Compost application diesel use\",\"amount\":0.8,\"unit\":'L/Mg compost',\"Reference\":None,\n",
    "                               'uncertainty_type':3,'loc':0.8,'scale':0.2}"
   ]
  },
  {
   "cell_type": "markdown",
   "metadata": {},
   "source": [
    "You may or may not wish to add more uncertainty, accoding to your needs. \n",
    "## Parameters\n",
    "Parameters can also have uncertainty but since every group of parameters must sum to 1, there are a few considerations. If a group of parameters contains only 1 parameter, that parameters will always be equal to 1, even if uncertainty is added. When adding uncertainty to a group larger than 1, adding uncertainty to a single parameter will affect all the other since they are normalized. To learn more about the parameters, check out the Parameter class inside the PySWOLF Documentation.\n",
    "\n",
    "For this example, let's add uncertainty to the parameter `frac_of_Other_Residual_from_AD_to_LF`. Adding uncertainty to parameters is done by calling a function inside the Project object and passing a series of arguments. These arguments are the same as the keys in the Common Data and Process Model input dictionaries and all follow the `stats_arrys` package. "
   ]
  },
  {
   "cell_type": "code",
   "execution_count": null,
   "metadata": {},
   "outputs": [],
   "source": [
    "demo.unified_params.add_uncertainty('frac_of_Other_Residual_from_AD_to_LF', loc = 0.8, scale = 0.3, uncertainty_type = 7, minimum = 0, maximum = 2)"
   ]
  },
  {
   "cell_type": "markdown",
   "metadata": {},
   "source": [
    "## Material Properties\n",
    "Adding uncertainty to the Material Properties is done by editing the file 'Material Properties - process models.xlsx', that is provided with the code checked out. This file contains a series of columns that follow the same pattern as the other types. The user can add the uncertainty by editing this file \n",
    "\n",
    "## Running the Simulation\n",
    "Before we can actually run the simulation, we have to setup a few things. Since the simulation is an independent module, we must specify a few things for our run:\n",
    "\n",
    "- Functional Unit\n",
    "- Method(s)\n",
    "- Project name\n"
   ]
  },
  {
   "cell_type": "code",
   "execution_count": null,
   "metadata": {},
   "outputs": [],
   "source": [
    "functional_unit = {db.get(\"scenario1\") : 1}\n",
    "method = [('SWOLF_IPCC','SWOLF'),('SWOLF_Acidification','SWOLF')]"
   ]
  },
  {
   "cell_type": "markdown",
   "metadata": {},
   "source": [
    "The Functional Unit has to indicate which scenario we are going to run. We can get it from the Database. `Method` has to be a list of methods that the simulation will iterate through. If you are using just one method, it must be a list with one element. From the previous Notebook, we defined a variable called `Project_name` and it has \"Organic Analysis\" as its value. We will use it again here.\n",
    "\n",
    "Now, because the simulation may or may not have process models and there can be several process models of one kind, we must tell it which ones do we want for it to simulate. In order to do that, we must pass 2 lists. One with the process models themselves and one with their names."
   ]
  },
  {
   "cell_type": "code",
   "execution_count": null,
   "metadata": {},
   "outputs": [],
   "source": [
    "process_models = list()\n",
    "process_model_names = list()\n",
    "\n",
    "process_models.append(Treatment_processes['AD']['model'])\n",
    "process_model_names.append('AD')\n",
    "\n",
    "process_models.append(Treatment_processes['COMP']['model'])\n",
    "process_model_names.append('COMP')"
   ]
  },
  {
   "cell_type": "markdown",
   "metadata": {},
   "source": [
    "These two lists will tell the simulation that we added uncertainty to `AD` and `COMP` and their respective models. This is necessary because you might have `AD1` and `AD2` and only wish to add uncertainty to `AD1`, for example.\n",
    "\n",
    "Once this is done, we will call the function to create our simulation. It can be a bit tricky because there are a lot of arguments in the function but many are optional, according to the simulation. Let's first import the class."
   ]
  },
  {
   "cell_type": "code",
   "execution_count": null,
   "metadata": {},
   "outputs": [],
   "source": [
    "import building_matrices as bm\n",
    "pd = bm.ParallelData(functional_unit, \n",
    "                     method, \n",
    "                     Project_name, \n",
    "                     process_models=process_models, \n",
    "                     process_model_names=process_model_names, \n",
    "                     parameters=demo.unified_params, \n",
    "                     common_data=CommonData, \n",
    "                     seed = 1)"
   ]
  },
  {
   "cell_type": "markdown",
   "metadata": {},
   "source": [
    "This class instantiation might seem a little scary but if we break it down, it is not that hard to understand. All the arguments after `Project_name` are optional and for the sake of this example, we are using them all. In your case, you may only want to use Process Model uncertainty, so you wouldn't need many of these arguments. The `process_models` and `process_model_names` are the two lists we just created to define which are the process models we are running uncertainty for. The parameters argument must have the `unified_parameters` attribute inside the `Project` object and the `common_data` is the Common Data object that we created and added uncertainty. In the simulation, this Common Data object will be replaced inside the process models passed in `process_models` and `process_model_names`. So, if you want Common Data uncertainty across all process models, they must all go in these lists. \n",
    "\n",
    "Let's finally run our simulation. The first argument is the amount of threads it will use. Most modern machines have 4 or 8 cores so the speedups can be considerable on more modern architechtures. The second argument is the number of runs. For this simple example, let's use 100. "
   ]
  },
  {
   "cell_type": "code",
   "execution_count": null,
   "metadata": {},
   "outputs": [],
   "source": [
    "pd.run(4,100)"
   ]
  },
  {
   "cell_type": "markdown",
   "metadata": {},
   "source": [
    "Once the simulation is completed, we can convert our results to a Data Frame with:"
   ]
  },
  {
   "cell_type": "code",
   "execution_count": null,
   "metadata": {},
   "outputs": [],
   "source": [
    "output=pd.result_to_DF()"
   ]
  },
  {
   "cell_type": "markdown",
   "metadata": {},
   "source": [
    "Or even dump to a pickle file with:"
   ]
  },
  {
   "cell_type": "code",
   "execution_count": null,
   "metadata": {},
   "outputs": [],
   "source": [
    "pd.save_results('results.p')"
   ]
  }
 ],
 "metadata": {
  "kernelspec": {
   "display_name": "Python 3",
   "language": "python",
   "name": "python3"
  },
  "language_info": {
   "codemirror_mode": {
    "name": "ipython",
    "version": 3
   },
   "file_extension": ".py",
   "mimetype": "text/x-python",
   "name": "python",
   "nbconvert_exporter": "python",
   "pygments_lexer": "ipython3",
   "version": "3.6.6"
  }
 },
 "nbformat": 4,
 "nbformat_minor": 2
}
